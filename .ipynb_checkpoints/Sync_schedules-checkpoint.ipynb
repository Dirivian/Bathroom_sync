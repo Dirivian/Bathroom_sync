{
 "cells": [
  {
   "cell_type": "code",
   "execution_count": 1,
   "metadata": {},
   "outputs": [],
   "source": [
    "import numpy as np\n",
    "import matplotlib.pyplot as plt\n",
    "import random"
   ]
  },
  {
   "cell_type": "code",
   "execution_count": 2,
   "metadata": {},
   "outputs": [],
   "source": [
    "def plot_sys(v,t):\n",
    "        plt.plot(t,v(t))\n",
    "        plt.xlabel('Quantity of water consumed')\n",
    "        plt.ylabel('Average rate of flow')"
   ]
  },
  {
   "cell_type": "code",
   "execution_count": 73,
   "metadata": {},
   "outputs": [],
   "source": [
    "k_0 = 700#Carrying capacity \n",
    "x_0 =300\n",
    "def logistic(q, k=k_0,r= 0.005):\n",
    "    return k_0/(1+ np.exp(-r*(q-x_0)))"
   ]
  },
  {
   "cell_type": "code",
   "execution_count": 74,
   "metadata": {},
   "outputs": [
    {
     "data": {
      "image/png": "[encoded data removed]",
      "text/plain": [
       "<Figure size 432x288 with 1 Axes>"
      ]
     },
     "metadata": {
      "needs_background": "light"
     },
     "output_type": "display_data"
    }
   ],
   "source": [
    "x = np.linspace(1,6, 10)\n",
    "q= np.linspace(0,500,10000)\n",
    "plot_sys(logistic,q)\n",
    "plt.show()"
   ]
  },
  {
   "cell_type": "code",
   "execution_count": 224,
   "metadata": {},
   "outputs": [],
   "source": [
    "s_0 = 370\n",
    "# Requires: v0: initial volume\n",
    "#           T:  timesteps\n",
    "#           T_drink: times of drinking\n",
    "#           Q: The corresponding amount drunk\n",
    "#           s0: the constant of threshold for firing\n",
    "#           k, r: the parameters of logistic\n",
    "#           PROP: proportion of the water drunk that reaches bladder (const. set to 0.68)\n",
    "# Modifies: nothing\n",
    "# Returns: V, the volume of liquid in bladder\n",
    "#          R, the rates\n",
    "def integ_fire(T, T_drink, Q, model_type = 1,\n",
    "               v0=0, s0=s_0, k=k_0, r=0.01, PROP=0.68):\n",
    "    \n",
    "        q = np.linspace(0,1000,10000)\n",
    "        MINr = min(logistic(q,k,r)) \n",
    "        epsilon_r = 0\n",
    "        thresh = s0 # modify if needed\n",
    "        V = np.zeros(len(T)) # volume of bladder\n",
    "        R = np.zeros(len(T)) # keeping R\n",
    "        \n",
    "        rbar = 0#float(logistic(np.mean(q), k, r)) /60 # a default value\n",
    "        t_total = T[-1]#PROP*np.mean(q)/rbar # a default value \n",
    "        q = 0\n",
    "        \n",
    "        i_drink = 0\n",
    "        t_prevDrink = 0\n",
    "        number_of_firings =0\n",
    "        alpha = 37/4500\n",
    "        \n",
    "        for i, t in enumerate(T[:-1]):\n",
    "                \n",
    "            if (t in T_drink):\n",
    "              \n",
    "                if (t-t_prevDrink > t_total):\n",
    "                    q = Q[i_drink]\n",
    "                else:\n",
    "                    #print('early drink')\n",
    "                    q = (1/PROP)*rbar*(t_total - (t - t_prevDrink)) + Q[i_drink]\n",
    "                    \n",
    "                \n",
    "                rbar = logistic(q, k, r)/60 # from ml/hr to ml/min\n",
    "                #print(rbar,q,int(t_total),t,int(t_prevDrink))\n",
    "                t_total = PROP*q/rbar\n",
    "                i_drink += 1\n",
    "                t_prevDrink = t\n",
    "            if model_type == 1:\n",
    "                if t - t_prevDrink <=t_total:\n",
    "                    rate = rbar # this is for const rate\n",
    "                else:\n",
    "                    rate =0\n",
    "                V[i+1] = V[i] + rate\n",
    "                R[i] = rate\n",
    "            elif model_type == 2:\n",
    "                rate = max(2*rbar*(1 - (t-t_prevDrink)/t_total), 0) # this is dV/dt # this is for variable r\n",
    "                V[i+1] = V[i] + rate\n",
    "                R[i] = rate\n",
    "            indices = np.where(np.logical_and(T_drink>=t_prevDrink, T_drink<=t))\n",
    "            thresh = s_0 - 0.68*alpha*sum((t-T_drink[indices])*Q[indices])\n",
    "            if (V[i] > thresh):\n",
    "                #print('Fire')\n",
    "                V[i+1] = 0\n",
    "                if V[i] !=0:\n",
    "                    number_of_firings +=1\n",
    "                #print(number_of_firings)\n",
    "            \n",
    "\n",
    "            \n",
    "        return V, R,number_of_firings\n",
    "                    "
   ]
  },
  {
   "cell_type": "code",
   "execution_count": 225,
   "metadata": {},
   "outputs": [],
   "source": [
    "T = [x for x in range(24*60)] # over a day\n",
    "\n",
    "T_drink = set()\n",
    "Q = []\n",
    "for i in range(20):\n",
    "    #chooses 20 random times to drink in the day\n",
    "    T_drink.add(random.choice(T))\n",
    "    Q = Q + [random.randint(0, 500)]\n",
    "    "
   ]
  },
  {
   "cell_type": "code",
   "execution_count": 123,
   "metadata": {},
   "outputs": [
    {
     "data": {
      "text/plain": [
       "array({1162, 26, 159, 689, 562, 824, 953, 1213, 205, 337, 1365, 856, 353, 1378, 232, 620, 364, 624, 117, 1272},\n",
       "      dtype=object)"
      ]
     },
     "execution_count": 123,
     "metadata": {},
     "output_type": "execute_result"
    }
   ],
   "source": [
    "np.array(T_drink)"
   ]
  },
  {
   "cell_type": "code",
   "execution_count": 124,
   "metadata": {},
   "outputs": [
    {
     "data": {
      "text/plain": [
       "4468"
      ]
     },
     "execution_count": 124,
     "metadata": {},
     "output_type": "execute_result"
    }
   ],
   "source": [
    "sum(np.array(Q))"
   ]
  },
  {
   "cell_type": "code",
   "execution_count": 141,
   "metadata": {},
   "outputs": [
    {
     "name": "stdout",
     "output_type": "stream",
     "text": [
      "1.4029967287904261 101.0 1439 26 0\n",
      "4.32269702704706 247 48 117 26\n",
      "0.6440062741342335 16 38 159 117\n",
      "8.8181204894393 413 16 205 159\n",
      "2.178670610888986 152.8687452722631 31 232 205\n",
      "1.4658916593456994 106 47 337 232\n",
      "4.668205137112614 259.5084315448071 49 353 337\n",
      "3.3243506507163407 207.993348444456 37 364 353\n",
      "0.7210404397418666 28 42 562 364\n",
      "10.187909898575024 493 26 620 562\n",
      "10.264547496782392 499.0711182436763 32 624 620\n",
      "2.979702648679447 193 33 689 624\n",
      "2.6387833001897056 177 44 824 689\n",
      "2.4175366687232285 165.82196234401385 45 856 824\n",
      "9.44998172982135 445 46 953 856\n",
      "9.168074802163185 430 32 1162 953\n",
      "2.128297777740824 150 31 1213 1162\n",
      "5.600124364851546 292 47 1272 1213\n",
      "10.025888533101769 481 35 1365 1272\n",
      "11.465563641397447 704.3286015730545 32 1378 1365\n"
     ]
    },
    {
     "data": {
      "image/png": "[encoded data removed]",
      "text/plain": [
       "<Figure size 432x288 with 1 Axes>"
      ]
     },
     "metadata": {
      "needs_background": "light"
     },
     "output_type": "display_data"
    }
   ],
   "source": [
    "intfi = integ_fire(T, T_drink, Q, 1)\n",
    "plt.plot(T, intfi[0])\n",
    "plt.show()"
   ]
  },
  {
   "cell_type": "raw",
   "metadata": {},
   "source": []
  },
  {
   "cell_type": "code",
   "execution_count": 112,
   "metadata": {},
   "outputs": [
    {
     "data": {
      "image/png": "[encoded data removed]",
      "text/plain": [
       "<matplotlib.figure.Figure at 0x7f0498632a58>"
      ]
     },
     "metadata": {},
     "output_type": "display_data"
    }
   ],
   "source": [
    "intfi = integ_fire(T, T_drink, Q, 2)\n",
    "plt.plot(T, intfi[0])\n",
    "plt.show()"
   ]
  },
  {
   "cell_type": "markdown",
   "metadata": {
    "collapsed": true
   },
   "source": [
    "### The k for most people"
   ]
  },
  {
   "cell_type": "markdown",
   "metadata": {},
   "source": [
    "Most people go to the bathroom 7 times a day. They sleep around 8 hours a day. Let us think that the frequency of going to the bathroom is 7/16 times per hour.\n"
   ]
  },
  {
   "cell_type": "code",
   "execution_count": 230,
   "metadata": {},
   "outputs": [],
   "source": [
    "T_usual = np.array(range(8*60)) # times at a 9-5 job\n",
    "q_usual = 250*np.ones(6)\n",
    "T_drink_usual = np.array(range(90,8*60,180))"
   ]
  },
  {
   "cell_type": "code",
   "execution_count": 231,
   "metadata": {},
   "outputs": [
    {
     "data": {
      "text/plain": [
       "array([ 90, 270, 450])"
      ]
     },
     "execution_count": 231,
     "metadata": {},
     "output_type": "execute_result"
    }
   ],
   "source": [
    "T_drink_usual"
   ]
  },
  {
   "cell_type": "code",
   "execution_count": 232,
   "metadata": {},
   "outputs": [
    {
     "name": "stdout",
     "output_type": "stream",
     "text": [
      "2\n"
     ]
    },
    {
     "data": {
      "image/png": "[encoded data removed]",
      "text/plain": [
       "<Figure size 432x288 with 1 Axes>"
      ]
     },
     "metadata": {
      "needs_background": "light"
     },
     "output_type": "display_data"
    }
   ],
   "source": [
    "intfi = integ_fire(T_usual, T_drink_usual, q_usual, 1,r=0.005,k=350)\n",
    "plt.plot(T_usual, intfi[0])\n",
    "plt.plot(T_drink_usual,np.ones(len(T_drink_usual)),'ro')#drinking times\n",
    "print(intfi[2])\n",
    "plt.show()"
   ]
  },
  {
   "cell_type": "code",
   "execution_count": 233,
   "metadata": {},
   "outputs": [],
   "source": [
    "div = 100\n",
    "rrange =[0.001,0.001,0.005,0.01,0.05,0.1,0.5,1,1.5,2,10]\n",
    "krange = np.linspace(350,700,50)\n",
    "for r in rrange:\n",
    "    for k in krange:\n",
    "        n  = integ_fire(T_usual, T_drink_usual, q_usual, 2,r=0.005,k=350)[2]\n",
    "        if n >=3 :\n",
    "            print(r,k)"
   ]
  },
  {
   "cell_type": "code",
   "execution_count": 153,
   "metadata": {},
   "outputs": [
    {
     "data": {
      "text/plain": [
       "2"
      ]
     },
     "execution_count": 153,
     "metadata": {},
     "output_type": "execute_result"
    }
   ],
   "source": [
    "n"
   ]
  },
  {
   "cell_type": "code",
   "execution_count": 148,
   "metadata": {},
   "outputs": [
    {
     "data": {
      "text/plain": [
       "0.5963636363636364"
      ]
     },
     "execution_count": 148,
     "metadata": {},
     "output_type": "execute_result"
    }
   ],
   "source": [
    "r"
   ]
  },
  {
   "cell_type": "markdown",
   "metadata": {},
   "source": [
    "### Coupling"
   ]
  },
  {
   "cell_type": "code",
   "execution_count": null,
   "metadata": {},
   "outputs": [],
   "source": [
    "s_0 = 370\n",
    "# Requires: \n",
    "#           v0: initial volume\n",
    "#           T:  timesteps\n",
    "#           T_drink: times of drinking\n",
    "#           Q: The corresponding amount drunk\n",
    "#           s0: the constant of threshold for firing\n",
    "#           k, r: the parameters of logistic\n",
    "#           PROP: proportion of the water drunk that reaches bladder (const. set to 0.68)\n",
    "#           n: number of oscillators involved this has to be 2 for now!\n",
    "#           delta: the time one spends in/on the way to bathroom (in minutes)\n",
    "# Modifies: nothing\n",
    "# Returns: V, the volume of liquid in bladder\n",
    "#          R, the rates\n",
    "def coupled_integ_fire(T, T_drink, Q, model_type = 1,\n",
    "               v0=0, s0 = s_0, k=k_0, r=0.01, PROP=0.68, \n",
    "                       n = 2, delta = 5):\n",
    "        \n",
    "        q = np.linspace(0,1000,10000)\n",
    "        MINr = min(logistic(q,k,r)) \n",
    "        epsilon_r = 0\n",
    "        thresh = np.ndarray(n) # modify if needed\n",
    "        thresh[:] = s_0\n",
    "        V = [np.zeros(len(T)) for x in range(n)] # volume in bladders\n",
    "        R = [np.zeros(len(T)) for x in range(n)]  # keeping Rs\n",
    "        \n",
    "        rbar = [0 for x in range(n)]#float(logistic(np.mean(q), k, r)) /60 # a default value\n",
    "        t_total = [T[-1] for x in range(n)]#PROP*np.mean(q)/rbar # a default value \n",
    "        q = np.ndarray(n)\n",
    "        q[:] = 0\n",
    "        \n",
    "        i_drink = [0, 0]\n",
    "        t_prevDrink = np.ndarray(n)\n",
    "        t_prevDrink[:] = 0\n",
    "        \n",
    "        for osc in range(n):\n",
    "            # if they see each other in the bathroom, they try to go later\n",
    "            # next time\n",
    "            if (sum(t_prevDrink) > 0\n",
    "                and abs(t_prevDrink[n-osc] - t_prevDrink[osc]) < delta ):\n",
    "                thresh += 0.1*thresh # 10% increase in thresh\n",
    "            for i, t in enumerate(T[:-1]):\n",
    "                if (V[osc][i] > thresh[osc]):\n",
    "                    #print('Fire')\n",
    "                    V[osc][i+1] = 0\n",
    "                    continue\n",
    "\n",
    "                if (t in T_drink[osc]):\n",
    "                    if (t-t_prevDrink[osc] > t_total[osc]):\n",
    "                        q[osc] = Q[osc][i_drink[osc]]\n",
    "                    else:\n",
    "                        #print('early drink')\n",
    "                        q[osc] = (1/PROP)*rbar[osc]*(t_total[osc] \n",
    "                                                     - (t - t_prevDrink[osc])) + Q[osc][i_drink[osc]]\n",
    "\n",
    "                    rbar[osc] = logistic(q[osc], k, r)/60 # from ml/hr to ml/min\n",
    "                    #print(rbar)\n",
    "                    t_total[osc] = PROP*q[osc]/rbar[osc]\n",
    "                    i_drink[osc] += 1\n",
    "                    t_prevDrink[osc] = t\n",
    "                if model_type == 1:\n",
    "                    rate = rbar[osc] # this is for const rate\n",
    "                    V[osc][i+1] = V[osc][i] + rate\n",
    "                    R[osc][i] = rate\n",
    "                elif model_type == 2:\n",
    "                    rate = max(2*rbar[osc]*(1 - \n",
    "                                            (t-t_prevDrink[osc])/t_total[osc]), 0) # this is dV/dt # this is for variable r\n",
    "                    V[osc][i+1] = V[osc][i] + rate\n",
    "                    R[osc][i] = rate\n",
    "\n",
    "\n",
    "\n",
    "        return V, R"
   ]
  },
  {
   "cell_type": "code",
   "execution_count": null,
   "metadata": {},
   "outputs": [],
   "source": [
    "# test for 2 peers\n",
    "T = [x for x in range(24*60)] # over a day\n",
    "\n",
    "\n",
    "n = 2 # number of oscillators\n",
    "T_drink = [set() for x in range(n)]\n",
    "Q = [[] for x in range(n)]\n",
    "for osc in range(n):\n",
    "    for i in range(20):\n",
    "        #chooses 20 random times to drink in the day\n",
    "        T_drink[osc].add(random.choice(T))\n",
    "        Q[osc] = Q[osc] + [random.randint(0, 500)]"
   ]
  },
  {
   "cell_type": "code",
   "execution_count": null,
   "metadata": {},
   "outputs": [],
   "source": [
    "intfi_couple = coupled_integ_fire(T, T_drink, Q, 2, n=n, delta = 10)\n",
    "plt.plot(T, intfi_couple[0][0], 'b')\n",
    "plt.plot(T, intfi_couple[0][1], 'r')\n",
    "plt.show()"
   ]
  }
 ],
 "metadata": {
  "kernelspec": {
   "display_name": "Python 3",
   "language": "python",
   "name": "python3"
  },
  "language_info": {
   "codemirror_mode": {
    "name": "ipython",
    "version": 3
   },
   "file_extension": ".py",
   "mimetype": "text/x-python",
   "name": "python",
   "nbconvert_exporter": "python",
   "pygments_lexer": "ipython3",
   "version": "3.7.0"
  }
 },
 "nbformat": 4,
 "nbformat_minor": 2
}
