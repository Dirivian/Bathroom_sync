{
 "cells": [
  {
   "cell_type": "code",
   "execution_count": 23,
   "metadata": {
    "collapsed": true
   },
   "outputs": [],
   "source": [
    "import numpy as np\n",
    "import matplotlib.pyplot as plt\n",
    "import random\n",
    "import itertools"
   ]
  },
  {
   "cell_type": "code",
   "execution_count": 2,
   "metadata": {
    "collapsed": true
   },
   "outputs": [],
   "source": [
    "def plot_sys(v,t):\n",
    "        plt.plot(t,v(t))\n",
    "        plt.xlabel('Quantity of water consumed',fontsize=15)\n",
    "        plt.ylabel('Average rate of flow',fontsize=15)"
   ]
  },
  {
   "cell_type": "code",
   "execution_count": 3,
   "metadata": {
    "collapsed": false
   },
   "outputs": [],
   "source": [
    "k_0 = 600#Carrying capacity \n",
    "q0_default =200\n",
    "def logistic(q, k=k_0,r= 0.01,q_0=q0_default):\n",
    "    return k/(1+ np.exp(-r*(q-q_0)))"
   ]
  },
  {
   "cell_type": "code",
   "execution_count": 4,
   "metadata": {
    "collapsed": false
   },
   "outputs": [
    {
     "data": {
      "text/plain": [
       "311.22966560092726"
      ]
     },
     "execution_count": 4,
     "metadata": {},
     "output_type": "execute_result"
    }
   ],
   "source": [
    "logistic(250,500)"
   ]
  },
  {
   "cell_type": "code",
   "execution_count": 5,
   "metadata": {
    "collapsed": false
   },
   "outputs": [
    {
     "data": {
      "image/png": "[encoded data removed]",
      "text/plain": [
       "<matplotlib.figure.Figure at 0x7f4d27235ba8>"
      ]
     },
     "metadata": {},
     "output_type": "display_data"
    }
   ],
   "source": [
    "x = np.linspace(1,6, 10)\n",
    "q= np.linspace(0,800,10000)\n",
    "plot_sys(logistic,q)\n",
    "plt.savefig('logistic.pdf')\n",
    "plt.show()"
   ]
  },
  {
   "cell_type": "code",
   "execution_count": 106,
   "metadata": {
    "collapsed": true
   },
   "outputs": [],
   "source": [
    "s_0 = 370\n",
    "# Requires: v0: initial volume\n",
    "#           T:  timesteps\n",
    "#           T_drink: times of drinking\n",
    "#           Q: The corresponding amount drunk\n",
    "#           s0: the constant of threshold for firing\n",
    "#           k, r: the parameters of logistic\n",
    "#           PROP: proportion of the water drunk that reaches bladder (const. set to 0.68)\n",
    "# Modifies: nothing\n",
    "# Returns: V, the volume of liquid in bladder\n",
    "#          R, the rates\n",
    "def integ_fire(T, T_drink, Q, model_type = 1,\n",
    "               v0=0, s0=s_0, k=k_0, r=0.01,q_0=q0_default, PROP=0.68):\n",
    "    \n",
    "        q = np.linspace(0,1000,10000)\n",
    "        MINr = min(logistic(q,k,r)) \n",
    "        epsilon_r = 0\n",
    "        thresh = s0 # modify if needed\n",
    "        V = np.zeros(len(T)) # volume of bladder\n",
    "        R = np.zeros(len(T)) # keeping R\n",
    "        \n",
    "        rbar = 0#float(logistic(np.mean(q), k, r)) /60 # a default value\n",
    "        t_total = T[-1]#PROP*np.mean(q)/rbar # a default value \n",
    "        q = 0\n",
    "        \n",
    "        i_drink = 0\n",
    "        t_prevDrink = 0\n",
    "        number_of_firings =0\n",
    "        alpha = 11/2250\n",
    "        \n",
    "        for i, t in enumerate(T[:-1]):\n",
    "                \n",
    "            if (t in T_drink):\n",
    "              \n",
    "                if (t-t_prevDrink > t_total):\n",
    "                    q = Q[i_drink]\n",
    "                else:\n",
    "                    #print('early drink')\n",
    "                    q = (1/PROP)*rbar*(t_total - (t - t_prevDrink)) + Q[i_drink]\n",
    "                    \n",
    "                \n",
    "                rbar = logistic(q, k, r,q_0)/60 # from ml/hr to ml/min\n",
    "                #print(rbar,q,int(t_total),t,int(t_prevDrink))\n",
    "                t_total = PROP*q/rbar\n",
    "                i_drink += 1\n",
    "                t_prevDrink = t\n",
    "            if model_type == 1:\n",
    "                if t - t_prevDrink <=t_total:\n",
    "                    rate = rbar # this is for const rate\n",
    "                else:\n",
    "                    rate =0\n",
    "                V[i+1] = V[i] + rate\n",
    "                R[i] = rate\n",
    "            elif model_type == 2:\n",
    "                rate = max(2*rbar*(1 - (t-t_prevDrink)/t_total), 0) # this is dV/dt # this is for variable r\n",
    "                V[i+1] = V[i] + rate\n",
    "                R[i] = rate\n",
    "            indices = np.where(np.logical_and(T_drink>=t_prevDrink, T_drink<=t))\n",
    "            thresh = s0 - 0.68*alpha*sum((t-T_drink[indices])*Q[indices])\n",
    "            if (V[i] > thresh):\n",
    "                #print('Fire')\n",
    "                V[i+1] = 0\n",
    "                if V[i] !=0:\n",
    "                    number_of_firings +=1\n",
    "                #print(number_of_firings)\n",
    "            \n",
    "\n",
    "            \n",
    "        return V, R,number_of_firings\n",
    "                    "
   ]
  },
  {
   "cell_type": "code",
   "execution_count": 7,
   "metadata": {
    "collapsed": true
   },
   "outputs": [],
   "source": [
    "T = [x for x in range(24*60)] # over a day\n",
    "\n",
    "T_drink = set()\n",
    "Q = []\n",
    "for i in range(20):\n",
    "    #chooses 20 random times to drink in the day\n",
    "    T_drink.add(random.choice(T))\n",
    "    Q = Q + [random.randint(0, 500)]\n",
    "    "
   ]
  },
  {
   "cell_type": "code",
   "execution_count": 8,
   "metadata": {
    "collapsed": false
   },
   "outputs": [
    {
     "data": {
      "text/plain": [
       "array({865, 225, 1379, 388, 453, 98, 710, 10, 395, 522, 1359, 143, 1180, 760, 915, 380, 59, 988, 415}, dtype=object)"
      ]
     },
     "execution_count": 8,
     "metadata": {},
     "output_type": "execute_result"
    }
   ],
   "source": [
    "np.array(T_drink)"
   ]
  },
  {
   "cell_type": "code",
   "execution_count": 9,
   "metadata": {
    "collapsed": false
   },
   "outputs": [
    {
     "data": {
      "text/plain": [
       "5188"
      ]
     },
     "execution_count": 9,
     "metadata": {},
     "output_type": "execute_result"
    }
   ],
   "source": [
    "sum(np.array(Q))"
   ]
  },
  {
   "cell_type": "code",
   "execution_count": 248,
   "metadata": {
    "collapsed": false
   },
   "outputs": [
    {
     "ename": "TypeError",
     "evalue": "'set' object has no attribute '__getitem__'",
     "output_type": "error",
     "traceback": [
      "\u001b[0;31m---------------------------------------------------------------------------\u001b[0m",
      "\u001b[0;31mTypeError\u001b[0m                                 Traceback (most recent call last)",
      "\u001b[0;32m<ipython-input-248-e7889c3c141a>\u001b[0m in \u001b[0;36m<module>\u001b[0;34m()\u001b[0m\n\u001b[0;32m----> 1\u001b[0;31m \u001b[0mintfi\u001b[0m \u001b[0;34m=\u001b[0m \u001b[0minteg_fire\u001b[0m\u001b[0;34m(\u001b[0m\u001b[0mT\u001b[0m\u001b[0;34m,\u001b[0m \u001b[0mT_drink\u001b[0m\u001b[0;34m,\u001b[0m \u001b[0mQ\u001b[0m\u001b[0;34m,\u001b[0m \u001b[0;36m1\u001b[0m\u001b[0;34m)\u001b[0m\u001b[0;34m\u001b[0m\u001b[0m\n\u001b[0m\u001b[1;32m      2\u001b[0m \u001b[0mplt\u001b[0m\u001b[0;34m.\u001b[0m\u001b[0mplot\u001b[0m\u001b[0;34m(\u001b[0m\u001b[0mT\u001b[0m\u001b[0;34m,\u001b[0m \u001b[0mintfi\u001b[0m\u001b[0;34m[\u001b[0m\u001b[0;36m0\u001b[0m\u001b[0;34m]\u001b[0m\u001b[0;34m)\u001b[0m\u001b[0;34m\u001b[0m\u001b[0m\n\u001b[1;32m      3\u001b[0m \u001b[0mplt\u001b[0m\u001b[0;34m.\u001b[0m\u001b[0mshow\u001b[0m\u001b[0;34m(\u001b[0m\u001b[0;34m)\u001b[0m\u001b[0;34m\u001b[0m\u001b[0m\n",
      "\u001b[0;32m<ipython-input-244-6c3415cf19cd>\u001b[0m in \u001b[0;36minteg_fire\u001b[0;34m(T, T_drink, Q, model_type, v0, s0, k, r, PROP)\u001b[0m\n\u001b[1;32m     57\u001b[0m                 \u001b[0mR\u001b[0m\u001b[0;34m[\u001b[0m\u001b[0mi\u001b[0m\u001b[0;34m]\u001b[0m \u001b[0;34m=\u001b[0m \u001b[0mrate\u001b[0m\u001b[0;34m\u001b[0m\u001b[0m\n\u001b[1;32m     58\u001b[0m             \u001b[0mindices\u001b[0m \u001b[0;34m=\u001b[0m \u001b[0mnp\u001b[0m\u001b[0;34m.\u001b[0m\u001b[0mwhere\u001b[0m\u001b[0;34m(\u001b[0m\u001b[0mnp\u001b[0m\u001b[0;34m.\u001b[0m\u001b[0mlogical_and\u001b[0m\u001b[0;34m(\u001b[0m\u001b[0mT_drink\u001b[0m\u001b[0;34m>=\u001b[0m\u001b[0mt_prevDrink\u001b[0m\u001b[0;34m,\u001b[0m \u001b[0mT_drink\u001b[0m\u001b[0;34m<=\u001b[0m\u001b[0mt\u001b[0m\u001b[0;34m)\u001b[0m\u001b[0;34m)\u001b[0m\u001b[0;34m\u001b[0m\u001b[0m\n\u001b[0;32m---> 59\u001b[0;31m             \u001b[0mthresh\u001b[0m \u001b[0;34m=\u001b[0m \u001b[0ms_0\u001b[0m \u001b[0;34m-\u001b[0m \u001b[0;36m0.68\u001b[0m\u001b[0;34m*\u001b[0m\u001b[0malpha\u001b[0m\u001b[0;34m*\u001b[0m\u001b[0msum\u001b[0m\u001b[0;34m(\u001b[0m\u001b[0;34m(\u001b[0m\u001b[0mt\u001b[0m\u001b[0;34m-\u001b[0m\u001b[0mT_drink\u001b[0m\u001b[0;34m[\u001b[0m\u001b[0mindices\u001b[0m\u001b[0;34m]\u001b[0m\u001b[0;34m)\u001b[0m\u001b[0;34m*\u001b[0m\u001b[0mQ\u001b[0m\u001b[0;34m[\u001b[0m\u001b[0mindices\u001b[0m\u001b[0;34m]\u001b[0m\u001b[0;34m)\u001b[0m\u001b[0;34m\u001b[0m\u001b[0m\n\u001b[0m\u001b[1;32m     60\u001b[0m             \u001b[0;32mif\u001b[0m \u001b[0;34m(\u001b[0m\u001b[0mV\u001b[0m\u001b[0;34m[\u001b[0m\u001b[0mi\u001b[0m\u001b[0;34m]\u001b[0m \u001b[0;34m>\u001b[0m \u001b[0mthresh\u001b[0m\u001b[0;34m)\u001b[0m\u001b[0;34m:\u001b[0m\u001b[0;34m\u001b[0m\u001b[0m\n\u001b[1;32m     61\u001b[0m                 \u001b[0;31m#print('Fire')\u001b[0m\u001b[0;34m\u001b[0m\u001b[0;34m\u001b[0m\u001b[0m\n",
      "\u001b[0;31mTypeError\u001b[0m: 'set' object has no attribute '__getitem__'"
     ]
    }
   ],
   "source": [
    "intfi = integ_fire(T, T_drink, Q, 1)\n",
    "plt.plot(T, intfi[0])\n",
    "plt.show()"
   ]
  },
  {
   "cell_type": "raw",
   "metadata": {},
   "source": []
  },
  {
   "cell_type": "code",
   "execution_count": 249,
   "metadata": {
    "collapsed": false
   },
   "outputs": [
    {
     "ename": "TypeError",
     "evalue": "'set' object has no attribute '__getitem__'",
     "output_type": "error",
     "traceback": [
      "\u001b[0;31m---------------------------------------------------------------------------\u001b[0m",
      "\u001b[0;31mTypeError\u001b[0m                                 Traceback (most recent call last)",
      "\u001b[0;32m<ipython-input-249-b984f5dead14>\u001b[0m in \u001b[0;36m<module>\u001b[0;34m()\u001b[0m\n\u001b[0;32m----> 1\u001b[0;31m \u001b[0mintfi\u001b[0m \u001b[0;34m=\u001b[0m \u001b[0minteg_fire\u001b[0m\u001b[0;34m(\u001b[0m\u001b[0mT\u001b[0m\u001b[0;34m,\u001b[0m \u001b[0mT_drink\u001b[0m\u001b[0;34m,\u001b[0m \u001b[0mQ\u001b[0m\u001b[0;34m,\u001b[0m \u001b[0;36m2\u001b[0m\u001b[0;34m)\u001b[0m\u001b[0;34m\u001b[0m\u001b[0m\n\u001b[0m\u001b[1;32m      2\u001b[0m \u001b[0mplt\u001b[0m\u001b[0;34m.\u001b[0m\u001b[0mplot\u001b[0m\u001b[0;34m(\u001b[0m\u001b[0mT\u001b[0m\u001b[0;34m,\u001b[0m \u001b[0mintfi\u001b[0m\u001b[0;34m[\u001b[0m\u001b[0;36m0\u001b[0m\u001b[0;34m]\u001b[0m\u001b[0;34m)\u001b[0m\u001b[0;34m\u001b[0m\u001b[0m\n\u001b[1;32m      3\u001b[0m \u001b[0mplt\u001b[0m\u001b[0;34m.\u001b[0m\u001b[0mshow\u001b[0m\u001b[0;34m(\u001b[0m\u001b[0;34m)\u001b[0m\u001b[0;34m\u001b[0m\u001b[0m\n",
      "\u001b[0;32m<ipython-input-244-6c3415cf19cd>\u001b[0m in \u001b[0;36minteg_fire\u001b[0;34m(T, T_drink, Q, model_type, v0, s0, k, r, PROP)\u001b[0m\n\u001b[1;32m     57\u001b[0m                 \u001b[0mR\u001b[0m\u001b[0;34m[\u001b[0m\u001b[0mi\u001b[0m\u001b[0;34m]\u001b[0m \u001b[0;34m=\u001b[0m \u001b[0mrate\u001b[0m\u001b[0;34m\u001b[0m\u001b[0m\n\u001b[1;32m     58\u001b[0m             \u001b[0mindices\u001b[0m \u001b[0;34m=\u001b[0m \u001b[0mnp\u001b[0m\u001b[0;34m.\u001b[0m\u001b[0mwhere\u001b[0m\u001b[0;34m(\u001b[0m\u001b[0mnp\u001b[0m\u001b[0;34m.\u001b[0m\u001b[0mlogical_and\u001b[0m\u001b[0;34m(\u001b[0m\u001b[0mT_drink\u001b[0m\u001b[0;34m>=\u001b[0m\u001b[0mt_prevDrink\u001b[0m\u001b[0;34m,\u001b[0m \u001b[0mT_drink\u001b[0m\u001b[0;34m<=\u001b[0m\u001b[0mt\u001b[0m\u001b[0;34m)\u001b[0m\u001b[0;34m)\u001b[0m\u001b[0;34m\u001b[0m\u001b[0m\n\u001b[0;32m---> 59\u001b[0;31m             \u001b[0mthresh\u001b[0m \u001b[0;34m=\u001b[0m \u001b[0ms_0\u001b[0m \u001b[0;34m-\u001b[0m \u001b[0;36m0.68\u001b[0m\u001b[0;34m*\u001b[0m\u001b[0malpha\u001b[0m\u001b[0;34m*\u001b[0m\u001b[0msum\u001b[0m\u001b[0;34m(\u001b[0m\u001b[0;34m(\u001b[0m\u001b[0mt\u001b[0m\u001b[0;34m-\u001b[0m\u001b[0mT_drink\u001b[0m\u001b[0;34m[\u001b[0m\u001b[0mindices\u001b[0m\u001b[0;34m]\u001b[0m\u001b[0;34m)\u001b[0m\u001b[0;34m*\u001b[0m\u001b[0mQ\u001b[0m\u001b[0;34m[\u001b[0m\u001b[0mindices\u001b[0m\u001b[0;34m]\u001b[0m\u001b[0;34m)\u001b[0m\u001b[0;34m\u001b[0m\u001b[0m\n\u001b[0m\u001b[1;32m     60\u001b[0m             \u001b[0;32mif\u001b[0m \u001b[0;34m(\u001b[0m\u001b[0mV\u001b[0m\u001b[0;34m[\u001b[0m\u001b[0mi\u001b[0m\u001b[0;34m]\u001b[0m \u001b[0;34m>\u001b[0m \u001b[0mthresh\u001b[0m\u001b[0;34m)\u001b[0m\u001b[0;34m:\u001b[0m\u001b[0;34m\u001b[0m\u001b[0m\n\u001b[1;32m     61\u001b[0m                 \u001b[0;31m#print('Fire')\u001b[0m\u001b[0;34m\u001b[0m\u001b[0;34m\u001b[0m\u001b[0m\n",
      "\u001b[0;31mTypeError\u001b[0m: 'set' object has no attribute '__getitem__'"
     ]
    }
   ],
   "source": [
    "intfi = integ_fire(T, T_drink, Q, 2)\n",
    "plt.plot(T, intfi[0])\n",
    "plt.show()"
   ]
  },
  {
   "cell_type": "code",
   "execution_count": null,
   "metadata": {
    "collapsed": true
   },
   "outputs": [],
   "source": []
  },
  {
   "cell_type": "markdown",
   "metadata": {
    "collapsed": true
   },
   "source": [
    "### The k for most people"
   ]
  },
  {
   "cell_type": "markdown",
   "metadata": {},
   "source": [
    "Most people go to the bathroom 7 times a day. They sleep around 8 hours a day. Let us think that the frequency of going to the bathroom is 7/16 times per hour.\n"
   ]
  },
  {
   "cell_type": "code",
   "execution_count": 89,
   "metadata": {
    "collapsed": true
   },
   "outputs": [],
   "source": [
    "T_usual = np.array(range(8*60)) # times at a 9-5 job\n",
    "q_usual = 250*np.ones(6)\n",
    "T_drink_usual = np.array(range(0,8*60,90))"
   ]
  },
  {
   "cell_type": "code",
   "execution_count": 90,
   "metadata": {
    "collapsed": false
   },
   "outputs": [
    {
     "data": {
      "text/plain": [
       "array([  0,  90, 180, 270, 360, 450])"
      ]
     },
     "execution_count": 90,
     "metadata": {},
     "output_type": "execute_result"
    }
   ],
   "source": [
    "T_drink_usual"
   ]
  },
  {
   "cell_type": "code",
   "execution_count": 95,
   "metadata": {
    "collapsed": false
   },
   "outputs": [
    {
     "data": {
      "image/png": "[encoded data removed]",
      "text/plain": [
       "<matplotlib.figure.Figure at 0x7f4d22858fd0>"
      ]
     },
     "metadata": {},
     "output_type": "display_data"
    }
   ],
   "source": [
    "intfi = integ_fire(T_usual, T_drink_usual, q_usual, 1,r=0.05,k=500,q_0=200,s0=370)\n",
    "plt.plot(T_usual, intfi[0])\n",
    "plt.plot(T_drink_usual,np.ones(len(T_drink_usual)),'ro')#drinking times\n",
    "plt.ylabel('Volume of fluid in the bladder',fontsize=13)\n",
    "plt.xlabel('Time in mins',fontsize=13)\n",
    "plt.savefig('model_varying_thresh.pdf')\n",
    "plt.show()"
   ]
  },
  {
   "cell_type": "code",
   "execution_count": 157,
   "metadata": {
    "collapsed": false
   },
   "outputs": [],
   "source": [
    "div = 100\n",
    "rrange =[0.0001,0.001,0.005,0.01,0.05,0.1,0.5,1,1.5,2,10]\n",
    "q0_range = np.linspace(50,500,10)\n",
    "k_range = np.linspace(100,2000, 10)\n",
    "k=500\n",
    "#for k in krange:\n",
    "for r in rrange:\n",
    "    for q0 in q0_range:\n",
    "        n  = integ_fire(T_usual, T_drink_usual, q_usual, 2,r,k,q_0=q0)[2]\n",
    "        if n >=7 :\n",
    "            print(r,k,q0,n)"
   ]
  },
  {
   "cell_type": "code",
   "execution_count": 88,
   "metadata": {
    "collapsed": false,
    "scrolled": false
   },
   "outputs": [
    {
     "data": {
      "image/png": "[encoded data removed]",
      "text/plain": [
       "<matplotlib.figure.Figure at 0x7f4d2298a1d0>"
      ]
     },
     "metadata": {},
     "output_type": "display_data"
    }
   ],
   "source": [
    "alist=[]\n",
    "nlist=[]\n",
    "for a in range(100,700,20):\n",
    "        n  = integ_fire(T_usual, T_drink_usual, a*np.ones(6), 1,r=0.05,k=450,q_0=200,s0=370)[2]\n",
    "        nlist +=[n]\n",
    "        alist +=[a]\n",
    "        #print(a,n)\n",
    "plt.plot(alist,nlist)\n",
    "#plt.plot(alist,np.array(alist)**2)\n",
    "plt.xlabel('ml of water consumed every 90 mins',fontsize=13)\n",
    "plt.ylabel('Number of bathroom breaks',fontsize=13)\n",
    "plt.savefig('breaks.pdf')\n",
    "plt.show()"
   ]
  },
  {
   "cell_type": "markdown",
   "metadata": {},
   "source": [
    "### Find the right time interval"
   ]
  },
  {
   "cell_type": "code",
   "execution_count": 97,
   "metadata": {
    "collapsed": false
   },
   "outputs": [
    {
     "ename": "NameError",
     "evalue": "name 'q_drink_list' is not defined",
     "output_type": "error",
     "traceback": [
      "\u001b[0;31m---------------------------------------------------------------------------\u001b[0m",
      "\u001b[0;31mNameError\u001b[0m                                 Traceback (most recent call last)",
      "\u001b[0;32m<ipython-input-97-5ee0f1c796d1>\u001b[0m in \u001b[0;36m<module>\u001b[0;34m()\u001b[0m\n\u001b[1;32m      4\u001b[0m \u001b[0mq_usual\u001b[0m \u001b[0;34m=\u001b[0m \u001b[0;36m250\u001b[0m\u001b[0;34m*\u001b[0m\u001b[0mnp\u001b[0m\u001b[0;34m.\u001b[0m\u001b[0mones\u001b[0m\u001b[0;34m(\u001b[0m\u001b[0;36m6\u001b[0m\u001b[0;34m)\u001b[0m\u001b[0;34m\u001b[0m\u001b[0m\n\u001b[1;32m      5\u001b[0m \u001b[0marange\u001b[0m \u001b[0;34m=\u001b[0m \u001b[0mnp\u001b[0m\u001b[0;34m.\u001b[0m\u001b[0mlinspace\u001b[0m\u001b[0;34m(\u001b[0m\u001b[0;36m1\u001b[0m\u001b[0;34m,\u001b[0m\u001b[0;36m400\u001b[0m\u001b[0;34m,\u001b[0m\u001b[0;36m100\u001b[0m\u001b[0;34m)\u001b[0m\u001b[0;34m\u001b[0m\u001b[0m\n\u001b[0;32m----> 6\u001b[0;31m \u001b[0;32mfor\u001b[0m \u001b[0mq_drink\u001b[0m \u001b[0;32min\u001b[0m \u001b[0mq_drink_list\u001b[0m\u001b[0;34m:\u001b[0m\u001b[0;34m\u001b[0m\u001b[0m\n\u001b[0m\u001b[1;32m      7\u001b[0m         \u001b[0mT_drink_usual\u001b[0m \u001b[0;34m=\u001b[0m \u001b[0mnp\u001b[0m\u001b[0;34m.\u001b[0m\u001b[0marray\u001b[0m\u001b[0;34m(\u001b[0m\u001b[0mrange\u001b[0m\u001b[0;34m(\u001b[0m\u001b[0;36m0\u001b[0m\u001b[0;34m,\u001b[0m\u001b[0;36m8\u001b[0m\u001b[0;34m*\u001b[0m\u001b[0;36m60\u001b[0m\u001b[0;34m,\u001b[0m\u001b[0mint\u001b[0m\u001b[0;34m(\u001b[0m\u001b[0ma\u001b[0m\u001b[0;34m)\u001b[0m\u001b[0;34m)\u001b[0m\u001b[0;34m)\u001b[0m\u001b[0;34m\u001b[0m\u001b[0m\n\u001b[1;32m      8\u001b[0m         \u001b[0mT_drink_usual\u001b[0m \u001b[0;34m=\u001b[0m \u001b[0mT_drink_usual\u001b[0m\u001b[0;34m[\u001b[0m\u001b[0;34m:\u001b[0m\u001b[0;36m6\u001b[0m\u001b[0;34m]\u001b[0m \u001b[0;31m#get the first six times\u001b[0m\u001b[0;34m\u001b[0m\u001b[0m\n",
      "\u001b[0;31mNameError\u001b[0m: name 'q_drink_list' is not defined"
     ]
    }
   ],
   "source": [
    "T_usual = np.array(range(8*60)) # times at a 9-5 job\n",
    "T_drink_usual = np.array(range(0,8*60,90))\n",
    "q_usual = 250*np.ones(6)\n",
    "q_usual = 250*np.ones(6)\n",
    "arange = np.linspace(1,400,100)\n",
    "for q_drink in q_drink_list:\n",
    "        T_drink_usual = np.array(range(0,8*60,int(a)))\n",
    "        T_drink_usual = T_drink_usual[:6] #get the first six times\n",
    "        n  = integ_fire(T_usual, T_drink_usual, q_usual, 1,r= 0.05,k=500,q_0=200)[0]\n",
    "        #print(n,a)"
   ]
  },
  {
   "cell_type": "code",
   "execution_count": null,
   "metadata": {
    "collapsed": true
   },
   "outputs": [],
   "source": [
    "T_usual = np.array(range(8*60)) # times at a 9-5 job\n",
    "T_drink_usual = np.array(range(0,8*60,90))\n",
    "total_amount = 1600\n",
    "choices = np.linspace(100,1000,10)\n",
    "q_usual = 250*np.ones(6)\n",
    "q_usual = 250*np.ones(6)\n",
    "arange = np.linspace(1,400,100)\n",
    "        n  = integ_fire(T_usual, T_drink_usual, q_drink, 1,r= 0.05,k=500,q_0=200)[0]\n",
    "        print(n,q_drink)"
   ]
  },
  {
   "cell_type": "code",
   "execution_count": 104,
   "metadata": {
    "collapsed": false
   },
   "outputs": [],
   "source": [
    "choices = np.linspace(100,1000,10)\n",
    "total_amount = 1600\n",
    "naive_choices_list =list(itertools.combinations_with_replacement(choices,6))\n",
    "choice_list = [item for item in naive_choices_list if sum(item)>=1500 and sum(item)<=1900 and max(item)<=500 ]"
   ]
  },
  {
   "cell_type": "code",
   "execution_count": 105,
   "metadata": {
    "collapsed": false
   },
   "outputs": [
    {
     "data": {
      "text/plain": [
       "80"
      ]
     },
     "execution_count": 105,
     "metadata": {},
     "output_type": "execute_result"
    }
   ],
   "source": [
    "len(choice_list)"
   ]
  },
  {
   "cell_type": "code",
   "execution_count": 113,
   "metadata": {
    "collapsed": false
   },
   "outputs": [
    {
     "name": "stdout",
     "output_type": "stream",
     "text": [
      "[ 300.  300.  300.  300.  300.  300.] 1800.0 3\n"
     ]
    }
   ],
   "source": [
    "T_usual = np.array(range(8*60)) # times at a 9-5 job\n",
    "T_drink_usual = np.array(range(0,8*60,90))\n",
    "nlist=np.ones(len(choice_list))\n",
    "i=0\n",
    "for q_drink in choice_list:\n",
    "        q_drink = np.array(q_drink)\n",
    "        n  = integ_fire(T_usual, T_drink_usual, q_drink, 2,r= 0.05,k=500,q_0=200,s0=450)[2]\n",
    "        \n",
    "        nlist[i]=n\n",
    "        i+=1\n",
    "        if n>=3and sum(q_drink)==1800:\n",
    "            print(q_drink, sum(q_drink),n)\n",
    "#nlist"
   ]
  },
  {
   "cell_type": "code",
   "execution_count": 112,
   "metadata": {
    "collapsed": false
   },
   "outputs": [
    {
     "name": "stdout",
     "output_type": "stream",
     "text": [
      "[ 200.  200.  300.  300.  400.  500.]\n",
      "[ 200.  300.  300.  300.  300.  500.]\n",
      "[ 200.  300.  300.  300.  400.  400.]\n"
     ]
    }
   ],
   "source": [
    "T_usual = np.array(range(8*60)) # times at a 9-5 job\n",
    "T_drink_usual = np.array(range(0,8*60,90))\n",
    "nlist=np.ones(len(choice_list))\n",
    "i=0\n",
    "for q_drink in choice_list:\n",
    "        q_drink = np.array(q_drink)\n",
    "        n  = integ_fire(T_usual, T_drink_usual, q_drink, 2,r= 0.05,k=500,q_0=200,s0=450)[2]\n",
    "        \n",
    "        nlist[i]=n\n",
    "        i+=1\n",
    "        if n==2  and sum(q_drink)>=1900:\n",
    "            print(q_drink)"
   ]
  },
  {
   "cell_type": "code",
   "execution_count": 78,
   "metadata": {
    "collapsed": false
   },
   "outputs": [
    {
     "data": {
      "text/plain": [
       "3.0"
      ]
     },
     "execution_count": 78,
     "metadata": {},
     "output_type": "execute_result"
    }
   ],
   "source": [
    "max(nlist)"
   ]
  },
  {
   "cell_type": "code",
   "execution_count": 65,
   "metadata": {
    "collapsed": false
   },
   "outputs": [
    {
     "data": {
      "text/plain": [
       "370"
      ]
     },
     "execution_count": 65,
     "metadata": {},
     "output_type": "execute_result"
    }
   ],
   "source": [
    "s_0"
   ]
  },
  {
   "cell_type": "code",
   "execution_count": 19,
   "metadata": {
    "collapsed": false
   },
   "outputs": [
    {
     "data": {
      "image/png": "[encoded data removed]",
      "text/plain": [
       "<matplotlib.figure.Figure at 0x7f4d22a15518>"
      ]
     },
     "metadata": {},
     "output_type": "display_data"
    }
   ],
   "source": [
    "plt.plot(T_usual, n)\n",
    "plt.show()"
   ]
  },
  {
   "cell_type": "code",
   "execution_count": 14,
   "metadata": {
    "collapsed": false,
    "scrolled": true
   },
   "outputs": [
    {
     "data": {
      "text/plain": [
       "array([0, 1, 2, 3, 4, 5])"
      ]
     },
     "execution_count": 14,
     "metadata": {},
     "output_type": "execute_result"
    }
   ],
   "source": [
    "T_drink_usual"
   ]
  },
  {
   "cell_type": "code",
   "execution_count": null,
   "metadata": {
    "collapsed": true
   },
   "outputs": [],
   "source": [
    "intfi = integ_fire(T_usual, T_drink_usual, q_usual, 1,r=0.005,k=350)\n",
    "fig1 = plt.gcf()\n",
    "plt.plot(T_usual, intfi[0], 'yellow')\n",
    "plt.plot(T_drink_usual,np.ones(len(T_drink_usual)),'ro')#drinking times\n",
    "print(intfi[2])\n",
    "plt.xlabel('time (m)')\n",
    "plt.ylabel('Volume of urine in bladder (ml)')\n",
    "plt.show()\n",
    "fig1.savefig('IntFire1_constThresh.png')"
   ]
  },
  {
   "cell_type": "code",
   "execution_count": 255,
   "metadata": {
    "collapsed": false
   },
   "outputs": [
    {
     "data": {
      "text/plain": [
       "10"
      ]
     },
     "execution_count": 255,
     "metadata": {},
     "output_type": "execute_result"
    }
   ],
   "source": [
    "r"
   ]
  },
  {
   "cell_type": "markdown",
   "metadata": {},
   "source": [
    "### Coupling"
   ]
  },
  {
   "cell_type": "code",
   "execution_count": 297,
   "metadata": {
    "collapsed": true
   },
   "outputs": [],
   "source": [
    "s_0 = 370\n",
    "# Requires: \n",
    "#           v0: initial volume\n",
    "#           T:  timesteps\n",
    "#           T_drink: times of drinking\n",
    "#           Q: The corresponding amount drunk\n",
    "#           s0: the constant of threshold for firing\n",
    "#           k, r: the parameters of logistic\n",
    "#           PROP: proportion of the water drunk that reaches bladder (const. set to 0.68)\n",
    "#           n: number of oscillators involved this has to be 2 for now!\n",
    "#           delta: the time one spends in/on the way to bathroom (in minutes)\n",
    "# Modifies: nothing\n",
    "# Returns: V, the volume of liquid in bladder\n",
    "#          R, the rates\n",
    "def coupled_integ_fire(T, T_drink, Q, model_type = 1,\n",
    "               v0=0, s0 = s_0, k=k_0, r=0.01, PROP=0.68, \n",
    "                       n = 2, delta = 5):\n",
    "        \n",
    "        q = np.linspace(0,1000,10000)\n",
    "        MINr = min(logistic(q,k,r)) \n",
    "        epsilon_r = 0\n",
    "        thresh = np.ndarray(n) # modify if needed\n",
    "        thresh[0] = s_0\n",
    "        thresh[n-1] = s_0 + 40\n",
    "        V = [np.zeros(len(T)) for x in range(n)] # volume in bladders\n",
    "        R = [np.zeros(len(T)) for x in range(n)]  # keeping Rs\n",
    "        \n",
    "        rbar = [0 for x in range(n)]#float(logistic(np.mean(q), k, r)) /60 # a default value\n",
    "        t_total = [T[-1] for x in range(n)]#PROP*np.mean(q)/rbar # a default value \n",
    "        q = np.ndarray(n)\n",
    "        q[:] = 0\n",
    "        \n",
    "        i_drink = [0, 0]\n",
    "        t_prevDrink = np.ndarray(n)\n",
    "        t_prevDrink[:] = 0\n",
    "        \n",
    "        fired = False\n",
    "        refractory_effect = [False, False]\n",
    "        T_fire = [10000, 20000]\n",
    "        for i, t in enumerate(T[:-1]):\n",
    "            # if they see each other in the bathroom, they try to go later\n",
    "            # next time\n",
    "            if (fired and\n",
    "                abs(T_fire[1] - T_fire[0]) < delta):\n",
    "                thresh += 0.1*thresh # 10% increase in thresh\n",
    "                fired = False\n",
    "                T_fire = [10000, 20000]\n",
    "                refractory_effect = [True, True]\n",
    "                \n",
    "            for osc in range(n):\n",
    "                if (t in T_drink[osc]):\n",
    "                    if (t-t_prevDrink[osc] > t_total[osc]):\n",
    "                        q[osc] = Q[osc][i_drink[osc]]\n",
    "                    else:\n",
    "                        #print('early drink')\n",
    "                        q[osc] = (1/PROP)*rbar[osc]*(t_total[osc] \n",
    "                                                     - (t - t_prevDrink[osc])) + Q[osc][i_drink[osc]]\n",
    "\n",
    "                    rbar[osc] = logistic(q[osc], k, r)/60 # from ml/hr to ml/min\n",
    "                    #print(rbar)\n",
    "                    t_total[osc] = PROP*q[osc]/rbar[osc]\n",
    "                    i_drink[osc] += 1\n",
    "                    t_prevDrink[osc] = t\n",
    "                if (V[osc][i] > thresh[osc]):\n",
    "                    #print('Fire')\n",
    "                    V[osc][i+1] = 0\n",
    "                    T_fire[osc] = t\n",
    "                    fired = True\n",
    "                    if (refractory_effect[osc]):\n",
    "                        thresh[osc] -= thresh[osc]*0.1\n",
    "                        refractory_effect[osc] = False\n",
    "                    continue\n",
    "                if model_type == 1:\n",
    "                    if (t-t_prevDrink[osc] > t_total[osc]):\n",
    "                        rate = 0\n",
    "                    else:\n",
    "                        rate = rbar[osc] # this is for const rate\n",
    "                    V[osc][i+1] = V[osc][i] + rate\n",
    "                    R[osc][i] = rate\n",
    "                elif model_type == 2:\n",
    "                    rate = max(2*rbar[osc]*(1 - \n",
    "                                            (t-t_prevDrink[osc])/t_total[osc]), 0) # this is dV/dt # this is for variable r\n",
    "                    V[osc][i+1] = V[osc][i] + rate\n",
    "                    R[osc][i] = rate\n",
    "\n",
    "\n",
    "\n",
    "        return V, R"
   ]
  },
  {
   "cell_type": "code",
   "execution_count": 298,
   "metadata": {
    "collapsed": true
   },
   "outputs": [],
   "source": [
    "# test for 2 peers\n",
    "T = [x for x in range(11*60)] # over a day\n",
    "\n",
    "\n",
    "n = 2 # number of oscillators\n",
    "T_drink = [set() for x in range(n)]\n",
    "Q = [[] for x in range(n)]\n",
    "T_drink_mutual = set()\n",
    "Q_mutual = []\n",
    "\n",
    "for i in range(4):\n",
    "    T_mutual = random.choice(T)\n",
    "    T_drink_mutual.add(T_mutual)\n",
    "    Q_mutual_new = random.randint(0, 500)\n",
    "    Q_mutual += [Q_mutual_new]\n",
    "    for osc in range(n):\n",
    "        T_drink[osc].add(T_mutual)\n",
    "        Q[osc] += [Q_mutual_new]\n",
    "        T_new = random.choice(T)\n",
    "        while (T_new in T_drink[osc]):\n",
    "            T_new = random.choice(T)\n",
    "        T_drink[osc].add(T_new)\n",
    "        Q[osc] = Q[osc] + [random.randint(0, 500)]\n",
    "\n",
    "T_drink[1] = set(list(T_drink[1]) + list(T_drink_mutual))\n",
    "Q[1] += Q_mutual\n",
    "T_drink[0] = set(list(T_drink[0]) + list(T_drink_mutual))\n",
    "Q[0] += Q_mutual\n",
    "        \n",
    "    \n",
    "#T_usual = np.array(range(9*60)) # times at a 9-5 job\n",
    "#q_usual = [250*np.ones(6) for x in range(2)]\n",
    "#T_drink_usual = [np.array(range(1,24*60,90)) for x in range(2)]"
   ]
  },
  {
   "cell_type": "code",
   "execution_count": 299,
   "metadata": {
    "collapsed": false
   },
   "outputs": [
    {
     "data": {
      "image/png": "[encoded data removed]",
      "text/plain": [
       "<matplotlib.figure.Figure at 0x108b78210>"
      ]
     },
     "metadata": {},
     "output_type": "display_data"
    }
   ],
   "source": [
    "intfi_couple = coupled_integ_fire(T_usual, T_drink_usual, q_usual, 1, n=n, delta = 10)\n",
    "intfi_couple = coupled_integ_fire(T, T_drink, Q, 1, n=n, delta = 10)\n",
    "plt.plot(T, intfi_couple[0][0], 'b')\n",
    "plt.plot(T, intfi_couple[0][1], 'r')\n",
    "plt.show()"
   ]
  },
  {
   "cell_type": "code",
   "execution_count": 259,
   "metadata": {
    "collapsed": false
   },
   "outputs": [
    {
     "data": {
      "text/plain": [
       "[array([  90,  270,  450,  630,  810,  990, 1170]),\n",
       " array([  90,  270,  450,  630,  810,  990, 1170])]"
      ]
     },
     "execution_count": 259,
     "metadata": {},
     "output_type": "execute_result"
    }
   ],
   "source": [
    "#intfi_couple = coupled_integ_fire(T_usual, T_drink_usual, q_usual, 1, n=n, delta = 10)\n",
    "intfi_couple = coupled_integ_fire(T, T_drink, Q, 1, n=n, delta = 14)\n",
    "fig1 = plt.gcf()\n",
    "plt.plot(T, intfi_couple[0][0], 'yellow')\n",
    "plt.plot(T, intfi_couple[0][1], 'brown')\n",
    "plt.plot(list(T_drink[0]),np.ones(8),'ro')#drinking times\n",
    "plt.plot(list(T_drink[1]),np.ones(8),'bo')\n",
    "plt.plot(list(T_drink_mutual),np.ones(4),'go')\n",
    "print(intfi[2])\n",
    "plt.xlabel('time (m)')\n",
    "plt.ylabel('Volume of urine in bladder (ml)')\n",
    "plt.show()\n",
    "fig1.savefig('IntFire_coupled.png')\n",
    "plt.show()"
   ]
  }
 ],
 "metadata": {
  "kernelspec": {
   "display_name": "Python 3",
   "language": "python",
   "name": "python3"
  },
  "language_info": {
   "codemirror_mode": {
    "name": "ipython",
    "version": 3
   },
   "file_extension": ".py",
   "mimetype": "text/x-python",
   "name": "python",
   "nbconvert_exporter": "python",
   "pygments_lexer": "ipython3",
   "version": "3.6.2"
  }
 },
 "nbformat": 4,
 "nbformat_minor": 2
}
