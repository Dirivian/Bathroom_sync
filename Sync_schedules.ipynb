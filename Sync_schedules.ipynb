{
 "cells": [
  {
   "cell_type": "code",
   "execution_count": 240,
   "metadata": {
    "collapsed": true
   },
   "outputs": [],
   "source": [
    "import numpy as np\n",
    "import matplotlib.pyplot as plt\n",
    "import random"
   ]
  },
  {
   "cell_type": "code",
   "execution_count": 241,
   "metadata": {
    "collapsed": true
   },
   "outputs": [],
   "source": [
    "def plot_sys(v,t):\n",
    "        plt.plot(t,v(t))\n",
    "        plt.xlabel('Quantity of water consumed')\n",
    "        plt.ylabel('Average rate of flow')"
   ]
  },
  {
   "cell_type": "code",
   "execution_count": 242,
   "metadata": {
    "collapsed": true
   },
   "outputs": [],
   "source": [
    "k_0 = 700#Carrying capacity \n",
    "x_0 =300\n",
    "def logistic(q, k=k_0,r= 0.005):\n",
    "    return k_0/(1+ np.exp(-r*(q-x_0)))"
   ]
  },
  {
   "cell_type": "code",
   "execution_count": 243,
   "metadata": {},
   "outputs": [
    {
     "data": {
      "image/png": "[encoded data removed]",
      "text/plain": [
       "<matplotlib.figure.Figure at 0x10a9440d0>"
      ]
     },
     "metadata": {},
     "output_type": "display_data"
    }
   ],
   "source": [
    "x = np.linspace(1,6, 10)\n",
    "q= np.linspace(0,500,10000)\n",
    "plot_sys(logistic,q)\n",
    "plt.show()"
   ]
  },
  {
   "cell_type": "code",
   "execution_count": 244,
   "metadata": {
    "collapsed": true
   },
   "outputs": [],
   "source": [
    "s_0 = 370\n",
    "# Requires: v0: initial volume\n",
    "#           T:  timesteps\n",
    "#           T_drink: times of drinking\n",
    "#           Q: The corresponding amount drunk\n",
    "#           s0: the constant of threshold for firing\n",
    "#           k, r: the parameters of logistic\n",
    "#           PROP: proportion of the water drunk that reaches bladder (const. set to 0.68)\n",
    "# Modifies: nothing\n",
    "# Returns: V, the volume of liquid in bladder\n",
    "#          R, the rates\n",
    "def integ_fire(T, T_drink, Q, model_type = 1,\n",
    "               v0=0, s0=s_0, k=k_0, r=0.01, PROP=0.68):\n",
    "    \n",
    "        q = np.linspace(0,1000,10000)\n",
    "        MINr = min(logistic(q,k,r)) \n",
    "        epsilon_r = 0\n",
    "        thresh = s0 # modify if needed\n",
    "        V = np.zeros(len(T)) # volume of bladder\n",
    "        R = np.zeros(len(T)) # keeping R\n",
    "        \n",
    "        rbar = 0#float(logistic(np.mean(q), k, r)) /60 # a default value\n",
    "        t_total = T[-1]#PROP*np.mean(q)/rbar # a default value \n",
    "        q = 0\n",
    "        \n",
    "        i_drink = 0\n",
    "        t_prevDrink = 0\n",
    "        number_of_firings =0\n",
    "        alpha = 37/4500\n",
    "        \n",
    "        for i, t in enumerate(T[:-1]):\n",
    "                \n",
    "            if (t in T_drink):\n",
    "              \n",
    "                if (t-t_prevDrink > t_total):\n",
    "                    q = Q[i_drink]\n",
    "                else:\n",
    "                    #print('early drink')\n",
    "                    q = (1/PROP)*rbar*(t_total - (t - t_prevDrink)) + Q[i_drink]\n",
    "                    \n",
    "                \n",
    "                rbar = logistic(q, k, r)/60 # from ml/hr to ml/min\n",
    "                #print(rbar,q,int(t_total),t,int(t_prevDrink))\n",
    "                t_total = PROP*q/rbar\n",
    "                i_drink += 1\n",
    "                t_prevDrink = t\n",
    "            if model_type == 1:\n",
    "                if t - t_prevDrink <=t_total:\n",
    "                    rate = rbar # this is for const rate\n",
    "                else:\n",
    "                    rate =0\n",
    "                V[i+1] = V[i] + rate\n",
    "                R[i] = rate\n",
    "            elif model_type == 2:\n",
    "                rate = max(2*rbar*(1 - (t-t_prevDrink)/t_total), 0) # this is dV/dt # this is for variable r\n",
    "                V[i+1] = V[i] + rate\n",
    "                R[i] = rate\n",
    "            indices = np.where(np.logical_and(T_drink>=t_prevDrink, T_drink<=t))\n",
    "            thresh = s_0 - 0.68*alpha*sum((t-T_drink[indices])*Q[indices])\n",
    "            if (V[i] > thresh):\n",
    "                #print('Fire')\n",
    "                V[i+1] = 0\n",
    "                if V[i] !=0:\n",
    "                    number_of_firings +=1\n",
    "                #print(number_of_firings)\n",
    "            \n",
    "\n",
    "            \n",
    "        return V, R,number_of_firings\n",
    "                    "
   ]
  },
  {
   "cell_type": "code",
   "execution_count": 245,
   "metadata": {
    "collapsed": true
   },
   "outputs": [],
   "source": [
    "T = [x for x in range(24*60)] # over a day\n",
    "\n",
    "T_drink = set()\n",
    "Q = []\n",
    "for i in range(20):\n",
    "    #chooses 20 random times to drink in the day\n",
    "    T_drink.add(random.choice(T))\n",
    "    Q = Q + [random.randint(0, 500)]\n",
    "    "
   ]
  },
  {
   "cell_type": "code",
   "execution_count": 246,
   "metadata": {},
   "outputs": [
    {
     "data": {
      "text/plain": [
       "array(set([691, 32, 1316, 965, 1031, 1161, 810, 225, 110, 1327, 1360, 273, 690, 561, 692, 213, 599, 516, 602, 517]), dtype=object)"
      ]
     },
     "execution_count": 246,
     "metadata": {},
     "output_type": "execute_result"
    }
   ],
   "source": [
    "np.array(T_drink)"
   ]
  },
  {
   "cell_type": "code",
   "execution_count": 247,
   "metadata": {},
   "outputs": [
    {
     "data": {
      "text/plain": [
       "4629"
      ]
     },
     "execution_count": 247,
     "metadata": {},
     "output_type": "execute_result"
    }
   ],
   "source": [
    "sum(np.array(Q))"
   ]
  },
  {
   "cell_type": "code",
   "execution_count": 248,
   "metadata": {},
   "outputs": [
    {
     "ename": "TypeError",
     "evalue": "'set' object has no attribute '__getitem__'",
     "output_type": "error",
     "traceback": [
      "\u001b[0;31m---------------------------------------------------------------------------\u001b[0m",
      "\u001b[0;31mTypeError\u001b[0m                                 Traceback (most recent call last)",
      "\u001b[0;32m<ipython-input-248-e7889c3c141a>\u001b[0m in \u001b[0;36m<module>\u001b[0;34m()\u001b[0m\n\u001b[0;32m----> 1\u001b[0;31m \u001b[0mintfi\u001b[0m \u001b[0;34m=\u001b[0m \u001b[0minteg_fire\u001b[0m\u001b[0;34m(\u001b[0m\u001b[0mT\u001b[0m\u001b[0;34m,\u001b[0m \u001b[0mT_drink\u001b[0m\u001b[0;34m,\u001b[0m \u001b[0mQ\u001b[0m\u001b[0;34m,\u001b[0m \u001b[0;36m1\u001b[0m\u001b[0;34m)\u001b[0m\u001b[0;34m\u001b[0m\u001b[0m\n\u001b[0m\u001b[1;32m      2\u001b[0m \u001b[0mplt\u001b[0m\u001b[0;34m.\u001b[0m\u001b[0mplot\u001b[0m\u001b[0;34m(\u001b[0m\u001b[0mT\u001b[0m\u001b[0;34m,\u001b[0m \u001b[0mintfi\u001b[0m\u001b[0;34m[\u001b[0m\u001b[0;36m0\u001b[0m\u001b[0;34m]\u001b[0m\u001b[0;34m)\u001b[0m\u001b[0;34m\u001b[0m\u001b[0m\n\u001b[1;32m      3\u001b[0m \u001b[0mplt\u001b[0m\u001b[0;34m.\u001b[0m\u001b[0mshow\u001b[0m\u001b[0;34m(\u001b[0m\u001b[0;34m)\u001b[0m\u001b[0;34m\u001b[0m\u001b[0m\n",
      "\u001b[0;32m<ipython-input-244-6c3415cf19cd>\u001b[0m in \u001b[0;36minteg_fire\u001b[0;34m(T, T_drink, Q, model_type, v0, s0, k, r, PROP)\u001b[0m\n\u001b[1;32m     57\u001b[0m                 \u001b[0mR\u001b[0m\u001b[0;34m[\u001b[0m\u001b[0mi\u001b[0m\u001b[0;34m]\u001b[0m \u001b[0;34m=\u001b[0m \u001b[0mrate\u001b[0m\u001b[0;34m\u001b[0m\u001b[0m\n\u001b[1;32m     58\u001b[0m             \u001b[0mindices\u001b[0m \u001b[0;34m=\u001b[0m \u001b[0mnp\u001b[0m\u001b[0;34m.\u001b[0m\u001b[0mwhere\u001b[0m\u001b[0;34m(\u001b[0m\u001b[0mnp\u001b[0m\u001b[0;34m.\u001b[0m\u001b[0mlogical_and\u001b[0m\u001b[0;34m(\u001b[0m\u001b[0mT_drink\u001b[0m\u001b[0;34m>=\u001b[0m\u001b[0mt_prevDrink\u001b[0m\u001b[0;34m,\u001b[0m \u001b[0mT_drink\u001b[0m\u001b[0;34m<=\u001b[0m\u001b[0mt\u001b[0m\u001b[0;34m)\u001b[0m\u001b[0;34m)\u001b[0m\u001b[0;34m\u001b[0m\u001b[0m\n\u001b[0;32m---> 59\u001b[0;31m             \u001b[0mthresh\u001b[0m \u001b[0;34m=\u001b[0m \u001b[0ms_0\u001b[0m \u001b[0;34m-\u001b[0m \u001b[0;36m0.68\u001b[0m\u001b[0;34m*\u001b[0m\u001b[0malpha\u001b[0m\u001b[0;34m*\u001b[0m\u001b[0msum\u001b[0m\u001b[0;34m(\u001b[0m\u001b[0;34m(\u001b[0m\u001b[0mt\u001b[0m\u001b[0;34m-\u001b[0m\u001b[0mT_drink\u001b[0m\u001b[0;34m[\u001b[0m\u001b[0mindices\u001b[0m\u001b[0;34m]\u001b[0m\u001b[0;34m)\u001b[0m\u001b[0;34m*\u001b[0m\u001b[0mQ\u001b[0m\u001b[0;34m[\u001b[0m\u001b[0mindices\u001b[0m\u001b[0;34m]\u001b[0m\u001b[0;34m)\u001b[0m\u001b[0;34m\u001b[0m\u001b[0m\n\u001b[0m\u001b[1;32m     60\u001b[0m             \u001b[0;32mif\u001b[0m \u001b[0;34m(\u001b[0m\u001b[0mV\u001b[0m\u001b[0;34m[\u001b[0m\u001b[0mi\u001b[0m\u001b[0;34m]\u001b[0m \u001b[0;34m>\u001b[0m \u001b[0mthresh\u001b[0m\u001b[0;34m)\u001b[0m\u001b[0;34m:\u001b[0m\u001b[0;34m\u001b[0m\u001b[0m\n\u001b[1;32m     61\u001b[0m                 \u001b[0;31m#print('Fire')\u001b[0m\u001b[0;34m\u001b[0m\u001b[0;34m\u001b[0m\u001b[0m\n",
      "\u001b[0;31mTypeError\u001b[0m: 'set' object has no attribute '__getitem__'"
     ]
    }
   ],
   "source": [
    "intfi = integ_fire(T, T_drink, Q, 1)\n",
    "plt.plot(T, intfi[0])\n",
    "plt.show()"
   ]
  },
  {
   "cell_type": "raw",
   "metadata": {},
   "source": []
  },
  {
   "cell_type": "code",
   "execution_count": 249,
   "metadata": {},
   "outputs": [
    {
     "ename": "TypeError",
     "evalue": "'set' object has no attribute '__getitem__'",
     "output_type": "error",
     "traceback": [
      "\u001b[0;31m---------------------------------------------------------------------------\u001b[0m",
      "\u001b[0;31mTypeError\u001b[0m                                 Traceback (most recent call last)",
      "\u001b[0;32m<ipython-input-249-b984f5dead14>\u001b[0m in \u001b[0;36m<module>\u001b[0;34m()\u001b[0m\n\u001b[0;32m----> 1\u001b[0;31m \u001b[0mintfi\u001b[0m \u001b[0;34m=\u001b[0m \u001b[0minteg_fire\u001b[0m\u001b[0;34m(\u001b[0m\u001b[0mT\u001b[0m\u001b[0;34m,\u001b[0m \u001b[0mT_drink\u001b[0m\u001b[0;34m,\u001b[0m \u001b[0mQ\u001b[0m\u001b[0;34m,\u001b[0m \u001b[0;36m2\u001b[0m\u001b[0;34m)\u001b[0m\u001b[0;34m\u001b[0m\u001b[0m\n\u001b[0m\u001b[1;32m      2\u001b[0m \u001b[0mplt\u001b[0m\u001b[0;34m.\u001b[0m\u001b[0mplot\u001b[0m\u001b[0;34m(\u001b[0m\u001b[0mT\u001b[0m\u001b[0;34m,\u001b[0m \u001b[0mintfi\u001b[0m\u001b[0;34m[\u001b[0m\u001b[0;36m0\u001b[0m\u001b[0;34m]\u001b[0m\u001b[0;34m)\u001b[0m\u001b[0;34m\u001b[0m\u001b[0m\n\u001b[1;32m      3\u001b[0m \u001b[0mplt\u001b[0m\u001b[0;34m.\u001b[0m\u001b[0mshow\u001b[0m\u001b[0;34m(\u001b[0m\u001b[0;34m)\u001b[0m\u001b[0;34m\u001b[0m\u001b[0m\n",
      "\u001b[0;32m<ipython-input-244-6c3415cf19cd>\u001b[0m in \u001b[0;36minteg_fire\u001b[0;34m(T, T_drink, Q, model_type, v0, s0, k, r, PROP)\u001b[0m\n\u001b[1;32m     57\u001b[0m                 \u001b[0mR\u001b[0m\u001b[0;34m[\u001b[0m\u001b[0mi\u001b[0m\u001b[0;34m]\u001b[0m \u001b[0;34m=\u001b[0m \u001b[0mrate\u001b[0m\u001b[0;34m\u001b[0m\u001b[0m\n\u001b[1;32m     58\u001b[0m             \u001b[0mindices\u001b[0m \u001b[0;34m=\u001b[0m \u001b[0mnp\u001b[0m\u001b[0;34m.\u001b[0m\u001b[0mwhere\u001b[0m\u001b[0;34m(\u001b[0m\u001b[0mnp\u001b[0m\u001b[0;34m.\u001b[0m\u001b[0mlogical_and\u001b[0m\u001b[0;34m(\u001b[0m\u001b[0mT_drink\u001b[0m\u001b[0;34m>=\u001b[0m\u001b[0mt_prevDrink\u001b[0m\u001b[0;34m,\u001b[0m \u001b[0mT_drink\u001b[0m\u001b[0;34m<=\u001b[0m\u001b[0mt\u001b[0m\u001b[0;34m)\u001b[0m\u001b[0;34m)\u001b[0m\u001b[0;34m\u001b[0m\u001b[0m\n\u001b[0;32m---> 59\u001b[0;31m             \u001b[0mthresh\u001b[0m \u001b[0;34m=\u001b[0m \u001b[0ms_0\u001b[0m \u001b[0;34m-\u001b[0m \u001b[0;36m0.68\u001b[0m\u001b[0;34m*\u001b[0m\u001b[0malpha\u001b[0m\u001b[0;34m*\u001b[0m\u001b[0msum\u001b[0m\u001b[0;34m(\u001b[0m\u001b[0;34m(\u001b[0m\u001b[0mt\u001b[0m\u001b[0;34m-\u001b[0m\u001b[0mT_drink\u001b[0m\u001b[0;34m[\u001b[0m\u001b[0mindices\u001b[0m\u001b[0;34m]\u001b[0m\u001b[0;34m)\u001b[0m\u001b[0;34m*\u001b[0m\u001b[0mQ\u001b[0m\u001b[0;34m[\u001b[0m\u001b[0mindices\u001b[0m\u001b[0;34m]\u001b[0m\u001b[0;34m)\u001b[0m\u001b[0;34m\u001b[0m\u001b[0m\n\u001b[0m\u001b[1;32m     60\u001b[0m             \u001b[0;32mif\u001b[0m \u001b[0;34m(\u001b[0m\u001b[0mV\u001b[0m\u001b[0;34m[\u001b[0m\u001b[0mi\u001b[0m\u001b[0;34m]\u001b[0m \u001b[0;34m>\u001b[0m \u001b[0mthresh\u001b[0m\u001b[0;34m)\u001b[0m\u001b[0;34m:\u001b[0m\u001b[0;34m\u001b[0m\u001b[0m\n\u001b[1;32m     61\u001b[0m                 \u001b[0;31m#print('Fire')\u001b[0m\u001b[0;34m\u001b[0m\u001b[0;34m\u001b[0m\u001b[0m\n",
      "\u001b[0;31mTypeError\u001b[0m: 'set' object has no attribute '__getitem__'"
     ]
    }
   ],
   "source": [
    "intfi = integ_fire(T, T_drink, Q, 2)\n",
    "plt.plot(T, intfi[0])\n",
    "plt.show()"
   ]
  },
  {
   "cell_type": "markdown",
   "metadata": {
    "collapsed": true
   },
   "source": [
    "### The k for most people"
   ]
  },
  {
   "cell_type": "markdown",
   "metadata": {},
   "source": [
    "Most people go to the bathroom 7 times a day. They sleep around 8 hours a day. Let us think that the frequency of going to the bathroom is 7/16 times per hour.\n"
   ]
  },
  {
   "cell_type": "code",
   "execution_count": 250,
   "metadata": {
    "collapsed": true
   },
   "outputs": [],
   "source": [
    "T_usual = np.array(range(8*60)) # times at a 9-5 job\n",
    "q_usual = 250*np.ones(6)\n",
    "T_drink_usual = np.array(range(90,8*60,180))"
   ]
  },
  {
   "cell_type": "code",
   "execution_count": 251,
   "metadata": {},
   "outputs": [
    {
     "data": {
      "text/plain": [
       "array([ 90, 270, 450])"
      ]
     },
     "execution_count": 251,
     "metadata": {},
     "output_type": "execute_result"
    }
   ],
   "source": [
    "T_drink_usual"
   ]
  },
  {
   "cell_type": "code",
   "execution_count": 252,
   "metadata": {},
   "outputs": [
    {
     "name": "stdout",
     "output_type": "stream",
     "text": [
      "1\n"
     ]
    },
    {
     "data": {
      "image/png": "[encoded data removed]",
      "text/plain": [
       "<matplotlib.figure.Figure at 0x10a90ae90>"
      ]
     },
     "metadata": {},
     "output_type": "display_data"
    }
   ],
   "source": [
    "intfi = integ_fire(T_usual, T_drink_usual, q_usual, 1,r=0.005,k=350)\n",
    "plt.plot(T_usual, intfi[0])\n",
    "plt.plot(T_drink_usual,np.ones(len(T_drink_usual)),'ro')#drinking times\n",
    "print(intfi[2])\n",
    "plt.show()"
   ]
  },
  {
   "cell_type": "code",
   "execution_count": 253,
   "metadata": {
    "collapsed": true
   },
   "outputs": [],
   "source": [
    "div = 100\n",
    "rrange =[0.001,0.001,0.005,0.01,0.05,0.1,0.5,1,1.5,2,10]\n",
    "krange = np.linspace(350,700,50)\n",
    "for r in rrange:\n",
    "    for k in krange:\n",
    "        n  = integ_fire(T_usual, T_drink_usual, q_usual, 2,r=0.005,k=350)[2]\n",
    "        if n >=3 :\n",
    "            print(r,k)"
   ]
  },
  {
   "cell_type": "code",
   "execution_count": 254,
   "metadata": {},
   "outputs": [
    {
     "data": {
      "text/plain": [
       "1"
      ]
     },
     "execution_count": 254,
     "metadata": {},
     "output_type": "execute_result"
    }
   ],
   "source": [
    "n"
   ]
  },
  {
   "cell_type": "code",
   "execution_count": 255,
   "metadata": {},
   "outputs": [
    {
     "data": {
      "text/plain": [
       "10"
      ]
     },
     "execution_count": 255,
     "metadata": {},
     "output_type": "execute_result"
    }
   ],
   "source": [
    "r"
   ]
  },
  {
   "cell_type": "markdown",
   "metadata": {},
   "source": [
    "### Coupling"
   ]
  },
  {
   "cell_type": "code",
   "execution_count": 256,
   "metadata": {},
   "outputs": [],
   "source": [
    "s_0 = 370\n",
    "# Requires: \n",
    "#           v0: initial volume\n",
    "#           T:  timesteps\n",
    "#           T_drink: times of drinking\n",
    "#           Q: The corresponding amount drunk\n",
    "#           s0: the constant of threshold for firing\n",
    "#           k, r: the parameters of logistic\n",
    "#           PROP: proportion of the water drunk that reaches bladder (const. set to 0.68)\n",
    "#           n: number of oscillators involved this has to be 2 for now!\n",
    "#           delta: the time one spends in/on the way to bathroom (in minutes)\n",
    "# Modifies: nothing\n",
    "# Returns: V, the volume of liquid in bladder\n",
    "#          R, the rates\n",
    "def coupled_integ_fire(T, T_drink, Q, model_type = 1,\n",
    "               v0=0, s0 = s_0, k=k_0, r=0.01, PROP=0.68, \n",
    "                       n = 2, delta = 5):\n",
    "        \n",
    "        q = np.linspace(0,1000,10000)\n",
    "        MINr = min(logistic(q,k,r)) \n",
    "        epsilon_r = 0\n",
    "        thresh = np.ndarray(n) # modify if needed\n",
    "        thresh[0] = s_0\n",
    "        thresh[n-1] = s_0 + 40\n",
    "        V = [np.zeros(len(T)) for x in range(n)] # volume in bladders\n",
    "        R = [np.zeros(len(T)) for x in range(n)]  # keeping Rs\n",
    "        \n",
    "        rbar = [0 for x in range(n)]#float(logistic(np.mean(q), k, r)) /60 # a default value\n",
    "        t_total = [T[-1] for x in range(n)]#PROP*np.mean(q)/rbar # a default value \n",
    "        q = np.ndarray(n)\n",
    "        q[:] = 0\n",
    "        \n",
    "        i_drink = [0, 0]\n",
    "        t_prevDrink = np.ndarray(n)\n",
    "        t_prevDrink[:] = 0\n",
    "        \n",
    "        fired = False\n",
    "        refractory_effect = [False, False]\n",
    "        T_fire = [10000, 20000]\n",
    "        for i, t in enumerate(T[:-1]):\n",
    "            # if they see each other in the bathroom, they try to go later\n",
    "            # next time\n",
    "            if (fired and\n",
    "                abs(T_fire[1] - T_fire[0]) < delta):\n",
    "                thresh += 0.1*thresh # 10% increase in thresh\n",
    "                fired = False\n",
    "                T_fire = [10000, 20000]\n",
    "                refractory_effect = [True, True]\n",
    "                \n",
    "            for osc in range(n):\n",
    "                if (t in T_drink[osc]):\n",
    "                    if (t-t_prevDrink[osc] > t_total[osc]):\n",
    "                        q[osc] = Q[osc][i_drink[osc]]\n",
    "                    else:\n",
    "                        #print('early drink')\n",
    "                        q[osc] = (1/PROP)*rbar[osc]*(t_total[osc] \n",
    "                                                     - (t - t_prevDrink[osc])) + Q[osc][i_drink[osc]]\n",
    "\n",
    "                    rbar[osc] = logistic(q[osc], k, r)/60 # from ml/hr to ml/min\n",
    "                    #print(rbar)\n",
    "                    t_total[osc] = PROP*q[osc]/rbar[osc]\n",
    "                    i_drink[osc] += 1\n",
    "                    t_prevDrink[osc] = t\n",
    "                if (V[osc][i] > thresh[osc]):\n",
    "                    #print('Fire')\n",
    "                    V[osc][i+1] = 0\n",
    "                    T_fire[osc] = t\n",
    "                    fired = True\n",
    "                    if (refractory_effect[osc]):\n",
    "                        thresh[osc] = s_0 + osc*40\n",
    "                        refractory_effect[osc] = False\n",
    "                    continue\n",
    "                if model_type == 1:\n",
    "                    if (t-t_prevDrink[osc] > t_total[osc]):\n",
    "                        rate = 0\n",
    "                    else:\n",
    "                        rate = rbar[osc] # this is for const rate\n",
    "                    V[osc][i+1] = V[osc][i] + rate\n",
    "                    R[osc][i] = rate\n",
    "                elif model_type == 2:\n",
    "                    rate = max(2*rbar[osc]*(1 - \n",
    "                                            (t-t_prevDrink[osc])/t_total[osc]), 0) # this is dV/dt # this is for variable r\n",
    "                    V[osc][i+1] = V[osc][i] + rate\n",
    "                    R[osc][i] = rate\n",
    "\n",
    "\n",
    "\n",
    "        return V, R"
   ]
  },
  {
   "cell_type": "code",
   "execution_count": 257,
   "metadata": {
    "collapsed": true
   },
   "outputs": [],
   "source": [
    "# test for 2 peers\n",
    "T = [x for x in range(24*60)] # over a day\n",
    "\n",
    "\n",
    "n = 2 # number of oscillators\n",
    "T_drink = [set() for x in range(n)]\n",
    "Q = [[] for x in range(n)]\n",
    "for osc in range(n):\n",
    "    for i in range(20):\n",
    "        #chooses 20 random times to drink in the day\n",
    "        T_drink[osc].add(random.choice(T))\n",
    "        Q[osc] = Q[osc] + [random.randint(0, 500)]\n",
    "        \n",
    "    \n",
    "T_usual = np.array(range(9*60)) # times at a 9-5 job\n",
    "q_usual = [250*np.ones(6) for x in range(2)]\n",
    "T_drink_usual = [np.array(range(90,20*60,180)) for x in range(2)]"
   ]
  },
  {
   "cell_type": "code",
   "execution_count": 258,
   "metadata": {},
   "outputs": [
    {
     "data": {
      "image/png": "[encoded data removed]",
      "text/plain": [
       "<matplotlib.figure.Figure at 0x10a378350>"
      ]
     },
     "metadata": {},
     "output_type": "display_data"
    }
   ],
   "source": [
    "intfi_couple = coupled_integ_fire(T_usual, T_drink_usual, q_usual, 1, n=n, delta = 10)\n",
    "plt.plot(T_usual, intfi_couple[0][0], 'b')\n",
    "plt.plot(T_usual, intfi_couple[0][1], 'r')\n",
    "plt.show()"
   ]
  },
  {
   "cell_type": "code",
   "execution_count": 259,
   "metadata": {},
   "outputs": [
    {
     "data": {
      "text/plain": [
       "[array([  90,  270,  450,  630,  810,  990, 1170]),\n",
       " array([  90,  270,  450,  630,  810,  990, 1170])]"
      ]
     },
     "execution_count": 259,
     "metadata": {},
     "output_type": "execute_result"
    }
   ],
   "source": [
    "T_drink_usual"
   ]
  }
 ],
 "metadata": {
  "kernelspec": {
   "display_name": "Python 2",
   "language": "python",
   "name": "python2"
  },
  "language_info": {
   "codemirror_mode": {
    "name": "ipython",
    "version": 2
   },
   "file_extension": ".py",
   "mimetype": "text/x-python",
   "name": "python",
   "nbconvert_exporter": "python",
   "pygments_lexer": "ipython2",
   "version": "2.7.13"
  }
 },
 "nbformat": 4,
 "nbformat_minor": 2
}
