{
 "cells": [
  {
   "cell_type": "code",
   "execution_count": 9,
   "metadata": {},
   "outputs": [
    {
     "name": "stdout",
     "output_type": "stream",
     "text": [
      "Populating the interactive namespace from numpy and matplotlib\n"
     ]
    },
    {
     "name": "stderr",
     "output_type": "stream",
     "text": [
      "/Users/AF/anaconda/lib/python2.7/site-packages/IPython/core/magics/pylab.py:161: UserWarning: pylab import has clobbered these variables: ['random']\n",
      "`%matplotlib` prevents importing * from pylab and numpy\n",
      "  \"\\n`%matplotlib` prevents importing * from pylab and numpy\"\n"
     ]
    }
   ],
   "source": [
    "%pylab inline"
   ]
  },
  {
   "cell_type": "code",
   "execution_count": 109,
   "metadata": {
    "collapsed": true
   },
   "outputs": [],
   "source": [
    "def plot_sys(v,t):\n",
    "        plot(t,v(t))\n",
    "        xlabel('Quantity of water consumed')\n",
    "        ylabel('Average rate of flow')"
   ]
  },
  {
   "cell_type": "code",
   "execution_count": 110,
   "metadata": {
    "collapsed": true
   },
   "outputs": [],
   "source": [
    "k_0 = 350#Carrying capacity \n",
    "x_0 =300\n",
    "def logistic(q, k=k_0,r= 0.01):\n",
    "    return k_0/(1+ exp(-r*(q-x_0)))"
   ]
  },
  {
   "cell_type": "code",
   "execution_count": 111,
   "metadata": {},
   "outputs": [
    {
     "data": {
      "image/png": "[encoded data removed]",
      "text/plain": [
       "<matplotlib.figure.Figure at 0x110cd4bd0>"
      ]
     },
     "metadata": {},
     "output_type": "display_data"
    }
   ],
   "source": [
    "x = linspace(1,6, 10)\n",
    "q= linspace(0,1000,10000)\n",
    "plot_sys(logistic,q)\n",
    "\n"
   ]
  },
  {
   "cell_type": "code",
   "execution_count": 504,
   "metadata": {},
   "outputs": [],
   "source": [
    "s_0 = 1000\n",
    "# Requires: v0: initial volume\n",
    "#           T:  timesteps\n",
    "#           T_drink: times of drinking\n",
    "#           Q: The corresponding amount drunk\n",
    "#           s0: the constant of threshold for firing\n",
    "#           k, r: the parameters of logistic\n",
    "#           PROP: proportion of the water drunk that reaches bladder (const. set to 0.68)\n",
    "# Modifies: nothing\n",
    "# Returns: V, the volume of liquid in bladder\n",
    "#          R, the rates\n",
    "def integ_fire(T, T_drink, Q, \n",
    "               v0=0, s0=s_0, k=k_0, r=0.01, PROP=0.68):\n",
    "    \n",
    "        q=linspace(0,1000,10000)\n",
    "        MINr = min(logistic(q)) \n",
    "        epsilon_r = 0\n",
    "        thresh = s0 # modify if needed\n",
    "        V = np.zeros(len(T)) # volume of bladder\n",
    "        R = np.zeros(len(T)) # keeping R\n",
    "        \n",
    "        rbar = float(logistic(np.mean(q), k, r)) /60 # a default value\n",
    "        t_total = PROP*np.mean(q)/rbar # a default value \n",
    "        q = 0\n",
    "        \n",
    "        i_drink = 0\n",
    "        t_prevDrink = 0\n",
    "        \n",
    "        for i, t in enumerate(T[:-1]):\n",
    "            \n",
    "            if (V[i] > thresh):\n",
    "                print('Fire')\n",
    "                V[i+1] = 0\n",
    "                continue\n",
    "                \n",
    "            if (t in T_drink):\n",
    "                T_drink.remove(t)\n",
    "                if (t-t_prevDrink > t_total):\n",
    "                    q = Q[i_drink]\n",
    "                else:\n",
    "                    print('early drink')\n",
    "                    q = (float(1)/PROP)*rbar*(t_total - (t - t_prevDrink)) + float(Q[i_drink])\n",
    "                \n",
    "                rbar = float(logistic(q, k, r)) / 60 # per minute we want\n",
    "                t_total = PROP*float(q)/rbar\n",
    "                i_drink += 1\n",
    "                t_prevDrink = t\n",
    "                \n",
    "            #rate = max(2*rbar*(1 - float((t-t_prevDrink))/t_total), 0) # this is dV/dt # this is for variable r\n",
    "            rate = rbar # this is for const rate\n",
    "            V[i+1] = V[i] + rate\n",
    "            R[i] = rate\n",
    "\n",
    "            \n",
    "        return V, R\n",
    "                    "
   ]
  },
  {
   "cell_type": "code",
   "execution_count": 505,
   "metadata": {},
   "outputs": [],
   "source": [
    "# test\n",
    "import random\n",
    "import numpy as np\n",
    "\n",
    "T = [x for x in range(24*60)] # over a day\n",
    "\n",
    "T_drink = set()\n",
    "Q = []\n",
    "for i in range(20):\n",
    "    T_drink.add(random.choice(T))\n",
    "    Q = Q + [random.randint(0, 700)]\n",
    "    "
   ]
  },
  {
   "cell_type": "code",
   "execution_count": 506,
   "metadata": {},
   "outputs": [
    {
     "name": "stdout",
     "output_type": "stream",
     "text": [
      "early drink\n",
      "early drink\n",
      "early drink\n",
      "Fire\n",
      "early drink\n",
      "early drink\n",
      "early drink\n",
      "early drink\n",
      "Fire\n",
      "early drink\n",
      "Fire\n",
      "early drink\n",
      "Fire\n",
      "early drink\n",
      "early drink\n",
      "early drink\n",
      "Fire\n",
      "early drink\n",
      "Fire\n",
      "early drink\n"
     ]
    }
   ],
   "source": [
    "intfi = integ_fire(T=T, T_drink=T_drink, Q=Q)"
   ]
  },
  {
   "cell_type": "code",
   "execution_count": 507,
   "metadata": {},
   "outputs": [
    {
     "data": {
      "text/plain": [
       "[<matplotlib.lines.Line2D at 0x115d44fd0>]"
      ]
     },
     "execution_count": 507,
     "metadata": {},
     "output_type": "execute_result"
    },
    {
     "data": {
      "image/png": "[encoded data removed]",
      "text/plain": [
       "<matplotlib.figure.Figure at 0x115988490>"
      ]
     },
     "metadata": {},
     "output_type": "display_data"
    }
   ],
   "source": [
    "plot(T, intfi[0])"
   ]
  }
 ],
 "metadata": {
  "kernelspec": {
   "display_name": "Python 2",
   "language": "python",
   "name": "python2"
  },
  "language_info": {
   "codemirror_mode": {
    "name": "ipython",
    "version": 2
   },
   "file_extension": ".py",
   "mimetype": "text/x-python",
   "name": "python",
   "nbconvert_exporter": "python",
   "pygments_lexer": "ipython2",
   "version": "2.7.13"
  }
 },
 "nbformat": 4,
 "nbformat_minor": 2
}
